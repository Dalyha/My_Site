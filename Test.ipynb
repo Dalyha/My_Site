{
 "cells": [
  {
   "cell_type": "code",
   "execution_count": null,
   "id": "db893ff8",
   "metadata": {},
   "outputs": [],
   "source": [
    "\n",
    "import sys\n",
    "\n",
    "import pandas as pd\n",
    "import numpy as np\n",
    "import re\n",
    "import nltk\n",
    "from sklearn.datasets import load_files\n",
    "nltk.download('stopwords')\n",
    "import pickle\n",
    "from nltk.corpus import stopwords\n",
    "from sklearn.preprocessing import LabelEncoder\n",
    "\n"
   ]
  },
  {
   "cell_type": "code",
   "execution_count": null,
   "id": "310c25ee",
   "metadata": {},
   "outputs": [],
   "source": [
    "\n",
    "df = pd.read_json('News_Category_Dataset_v2.json', lines=True)"
   ]
  },
  {
   "cell_type": "code",
   "execution_count": null,
   "id": "b8a4e6b5",
   "metadata": {},
   "outputs": [],
   "source": [
    "df"
   ]
  },
  {
   "cell_type": "code",
   "execution_count": null,
   "id": "eec2f047",
   "metadata": {},
   "outputs": [],
   "source": [
    "df.dropna(inplace = True)"
   ]
  },
  {
   "cell_type": "code",
   "execution_count": null,
   "id": "4eaebc09",
   "metadata": {},
   "outputs": [],
   "source": [
    "df.shape\n"
   ]
  },
  {
   "cell_type": "code",
   "execution_count": null,
   "id": "dd505445",
   "metadata": {},
   "outputs": [],
   "source": [
    "df.head()\n"
   ]
  },
  {
   "cell_type": "code",
   "execution_count": null,
   "id": "b64a9d68",
   "metadata": {},
   "outputs": [],
   "source": [
    "cp = df['headline'] \n",
    "df[\"Text\"] = cp\n",
    "\n",
    "cp = df[\"category\"]\n",
    "df[\"Cat1\"] = cp\n",
    "\n",
    "df1 = df[[\"Text\",\"Cat1\"]]"
   ]
  },
  {
   "cell_type": "code",
   "execution_count": null,
   "id": "633ae609",
   "metadata": {},
   "outputs": [],
   "source": [
    "df1.shape\n"
   ]
  },
  {
   "cell_type": "code",
   "execution_count": null,
   "id": "b45455d5",
   "metadata": {},
   "outputs": [],
   "source": [
    "enc = LabelEncoder().fit(df1.Cat1)\n",
    "encoded = enc.transform(df1.Cat1)"
   ]
  },
  {
   "cell_type": "code",
   "execution_count": null,
   "id": "02f5add1",
   "metadata": {},
   "outputs": [],
   "source": [
    "df.head()\n"
   ]
  },
  {
   "cell_type": "code",
   "execution_count": null,
   "id": "ad54b5d8",
   "metadata": {},
   "outputs": [],
   "source": [
    "from sklearn.model_selection\n",
    "import train_test_split\n",
    "X_train, X_test, y_train, y_test = train_test_split(df.Text, encoded,test_size=0.03, random_state=42)\n"
   ]
  },
  {
   "cell_type": "code",
   "execution_count": null,
   "id": "8c265d81",
   "metadata": {},
   "outputs": [],
   "source": [
    "print(\" -------- -- -- -- -- -\",end='')\n",
    "\n",
    "hh = sys.argv[1]\n",
    "hh = str(hh)\n",
    "print(\"Input text = \", hh,\" ||  \", end=\"    \")"
   ]
  },
  {
   "cell_type": "code",
   "execution_count": null,
   "id": "e77db76f",
   "metadata": {},
   "outputs": [],
   "source": [
    "X_test.reset_index(drop=True,inplace=True)"
   ]
  },
  {
   "cell_type": "code",
   "execution_count": null,
   "id": "97ec6254",
   "metadata": {},
   "outputs": [],
   "source": [
    "\n",
    "X_test.reset_index"
   ]
  },
  {
   "cell_type": "code",
   "execution_count": null,
   "id": "5b01b50a",
   "metadata": {},
   "outputs": [],
   "source": [
    "X_test[0] = hh"
   ]
  },
  {
   "cell_type": "code",
   "execution_count": null,
   "id": "12444b53",
   "metadata": {},
   "outputs": [],
   "source": [
    "X_test[0]"
   ]
  },
  {
   "cell_type": "code",
   "execution_count": null,
   "id": "8e4f7c50",
   "metadata": {},
   "outputs": [],
   "source": [
    "from sklearn.feature_extraction.text import TfidfVectorizer\n",
    "vectorizer = TfidfVectorizer(stop_words=\"english\", decode_error=\"ignore\")\n",
    "vectorizer.fit(X_train)\n"
   ]
  },
  {
   "cell_type": "code",
   "execution_count": null,
   "id": "d3a1c5c3",
   "metadata": {},
   "outputs": [],
   "source": [
    "X_train_vectorized = vectorizer.transform(X_train)"
   ]
  },
  {
   "cell_type": "code",
   "execution_count": null,
   "id": "824e71be",
   "metadata": {},
   "outputs": [],
   "source": [
    "X_train_vectorized"
   ]
  },
  {
   "cell_type": "code",
   "execution_count": null,
   "id": "938f72f3",
   "metadata": {},
   "outputs": [],
   "source": [
    "from sklearn.naive_bayes import MultinomialNB\n",
    "cls = MultinomialNB()\n",
    "# transform the list of text to tf-idf before passing it to the model\n",
    "cls.fit(vectorizer.transform(X_train), y_train)\n",
    " "
   ]
  },
  {
   "cell_type": "code",
   "execution_count": null,
   "id": "d1229d56",
   "metadata": {},
   "outputs": [],
   "source": [
    "cls"
   ]
  },
  {
   "cell_type": "code",
   "execution_count": null,
   "id": "5d2c510d",
   "metadata": {},
   "outputs": [],
   "source": [
    "\n",
    "from sklearn.metrics import classification_report, accuracy_score\n",
    "#hh = str(input(\"Enter the text \"))\n",
    "y_pred = cls.predict(vectorizer.transform(X_test))\n"
   ]
  },
  {
   "cell_type": "code",
   "execution_count": null,
   "id": "652cbd92",
   "metadata": {},
   "outputs": [],
   "source": [
    "hh = str(input(\"Enter the text \"))\n"
   ]
  },
  {
   "cell_type": "code",
   "execution_count": null,
   "id": "c915511b",
   "metadata": {},
   "outputs": [],
   "source": [
    "y_pred"
   ]
  },
  {
   "cell_type": "code",
   "execution_count": null,
   "id": "93a15589",
   "metadata": {},
   "outputs": [],
   "source": [
    "lss = enc.inverse_transform(y_pred)\n"
   ]
  },
  {
   "cell_type": "code",
   "execution_count": null,
   "id": "01429d3d",
   "metadata": {},
   "outputs": [],
   "source": [
    "print(\"Textul aparține categoriei =\",end=\"\")\n",
    "print(lss[0],end = \" \")"
   ]
  },
  {
   "cell_type": "code",
   "execution_count": null,
   "id": "39e220df",
   "metadata": {},
   "outputs": [],
   "source": [
    "lss"
   ]
  },
  {
   "cell_type": "code",
   "execution_count": null,
   "id": "3635c63d",
   "metadata": {},
   "outputs": [],
   "source": [
    "df.category()"
   ]
  },
  {
   "cell_type": "code",
   "execution_count": null,
   "id": "66c46919",
   "metadata": {},
   "outputs": [],
   "source": [
    "df1.Cat1()"
   ]
  },
  {
   "cell_type": "code",
   "execution_count": null,
   "id": "fbc93222",
   "metadata": {},
   "outputs": [],
   "source": []
  },
  {
   "cell_type": "code",
   "execution_count": null,
   "id": "eabadf81",
   "metadata": {},
   "outputs": [],
   "source": []
  },
  {
   "cell_type": "code",
   "execution_count": null,
   "id": "c88927ef",
   "metadata": {},
   "outputs": [],
   "source": []
  },
  {
   "cell_type": "code",
   "execution_count": null,
   "id": "4ee26bb4",
   "metadata": {},
   "outputs": [],
   "source": []
  },
  {
   "cell_type": "code",
   "execution_count": null,
   "id": "dbf0afa8",
   "metadata": {},
   "outputs": [],
   "source": []
  }
 ],
 "metadata": {
  "kernelspec": {
   "display_name": "Python 3",
   "language": "python",
   "name": "python3"
  },
  "language_info": {
   "codemirror_mode": {
    "name": "ipython",
    "version": 3
   },
   "file_extension": ".py",
   "mimetype": "text/x-python",
   "name": "python",
   "nbconvert_exporter": "python",
   "pygments_lexer": "ipython3",
   "version": "3.8.8"
  }
 },
 "nbformat": 4,
 "nbformat_minor": 5
}
